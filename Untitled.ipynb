{
 "cells": [
  {
   "cell_type": "code",
   "execution_count": 16,
   "id": "6fcc5e93-8ec8-4f33-b38f-93c097fc49ea",
   "metadata": {},
   "outputs": [
    {
     "ename": "ImportError",
     "evalue": "cannot import name 'read_pch' from 'pyNastran.bdf.bdf' (C:\\ProgramData\\anaconda3\\Lib\\site-packages\\pyNastran\\bdf\\bdf.py)",
     "output_type": "error",
     "traceback": [
      "\u001b[1;31m---------------------------------------------------------------------------\u001b[0m",
      "\u001b[1;31mImportError\u001b[0m                               Traceback (most recent call last)",
      "Cell \u001b[1;32mIn[16], line 1\u001b[0m\n\u001b[1;32m----> 1\u001b[0m \u001b[38;5;28;01mfrom\u001b[39;00m \u001b[38;5;21;01mpyNastran\u001b[39;00m\u001b[38;5;21;01m.\u001b[39;00m\u001b[38;5;21;01mbdf\u001b[39;00m\u001b[38;5;21;01m.\u001b[39;00m\u001b[38;5;21;01mbdf\u001b[39;00m \u001b[38;5;28;01mimport\u001b[39;00m read_pch\n\u001b[0;32m      2\u001b[0m \u001b[38;5;28;01mimport\u001b[39;00m \u001b[38;5;21;01mpandas\u001b[39;00m \u001b[38;5;28;01mas\u001b[39;00m \u001b[38;5;21;01mpd\u001b[39;00m\n\u001b[0;32m      4\u001b[0m \u001b[38;5;28;01mdef\u001b[39;00m \u001b[38;5;21mpch_to_csv\u001b[39m(pch_filename, csv_filename\u001b[38;5;241m=\u001b[39m\u001b[38;5;28;01mNone\u001b[39;00m):\n",
      "\u001b[1;31mImportError\u001b[0m: cannot import name 'read_pch' from 'pyNastran.bdf.bdf' (C:\\ProgramData\\anaconda3\\Lib\\site-packages\\pyNastran\\bdf\\bdf.py)"
     ]
    }
   ],
   "source": [
    "from pyNastran.bdf.bdf import read_pch\n",
    "import pandas as pd\n",
    "\n",
    "def pch_to_csv(pch_filename, csv_filename=None):\n",
    "    \"\"\"\n",
    "    Convert a Nastran .pch file to CSV format.\n",
    "    \n",
    "    Parameters:\n",
    "    -----------\n",
    "    pch_filename : str\n",
    "        Path to the .pch file\n",
    "    csv_filename : str (optional)\n",
    "        Path for the output CSV file. If None, uses same name as input with .csv extension\n",
    "    \"\"\"\n",
    "    # Read the .pch file\n",
    "    model = read_pch(pch_filename)\n",
    "    \n",
    "    # Get all results from the pch file\n",
    "    results = []\n",
    "    \n",
    "    # Check for common result types\n",
    "    if hasattr(model, 'displacements'):\n",
    "        results.append(model.displacements)\n",
    "    if hasattr(model, 'spc_forces'):\n",
    "        results.append(model.spc_forces)\n",
    "    if hasattr(model, 'mpc_forces'):\n",
    "        results.append(model.mpc_forces)\n",
    "    if hasattr(model, 'load_vectors'):\n",
    "        results.append(model.load_vectors)\n",
    "    \n",
    "    # If no results found\n",
    "    if not results:\n",
    "        print(\"No results data found in the .pch file\")\n",
    "        return\n",
    "    \n",
    "    # Convert results to DataFrames and combine\n",
    "    dfs = []\n",
    "    for result in results:\n",
    "        if hasattr(result, 'to_dataframe'):\n",
    "            dfs.append(result.to_dataframe())\n",
    "        elif hasattr(result, 'data_frame'):\n",
    "            dfs.append(result.data_frame)\n",
    "    \n",
    "    if not dfs:\n",
    "        print(\"No tabular data could be extracted from results\")\n",
    "        return\n",
    "    \n",
    "    combined_df = pd.concat(dfs)\n",
    "    \n",
    "    # Determine output filename if not provided\n",
    "    if csv_filename is None:\n",
    "        csv_filename = pch_filename.replace('.pch', '.csv')\n",
    "    \n",
    "    # Save to CSV\n",
    "    combined_df.to_csv(csv_filename, index=False)\n",
    "    print(f\"Successfully converted {pch_filename} to {csv_filename}\")\n",
    "\n",
    "# Example usage:\n",
    "# pch_to_csv('input.pch', 'output.csv')"
   ]
  },
  {
   "cell_type": "code",
   "execution_count": 15,
   "id": "63c12268-1294-40d3-8464-7f0d1df53bdb",
   "metadata": {},
   "outputs": [
    {
     "ename": "AttributeError",
     "evalue": "'OP2' object has no attribute 'read_pch'",
     "output_type": "error",
     "traceback": [
      "\u001b[1;31m---------------------------------------------------------------------------\u001b[0m",
      "\u001b[1;31mAttributeError\u001b[0m                            Traceback (most recent call last)",
      "Cell \u001b[1;32mIn[15], line 1\u001b[0m\n\u001b[1;32m----> 1\u001b[0m pch_to_csv(\u001b[38;5;124mr\u001b[39m\u001b[38;5;124m\"\u001b[39m\u001b[38;5;124mE:\u001b[39m\u001b[38;5;124m\\\u001b[39m\u001b[38;5;124mPunch File\u001b[39m\u001b[38;5;124m\\\u001b[39m\u001b[38;5;124mtemp_file_vyom 1.pch\u001b[39m\u001b[38;5;124m\"\u001b[39m, \u001b[38;5;124mr\u001b[39m\u001b[38;5;124m'\u001b[39m\u001b[38;5;124mE:\u001b[39m\u001b[38;5;124m\\\u001b[39m\u001b[38;5;124mPunch File\u001b[39m\u001b[38;5;124m\\\u001b[39m\u001b[38;5;124moutput.csv\u001b[39m\u001b[38;5;124m'\u001b[39m)\n",
      "Cell \u001b[1;32mIn[12], line 18\u001b[0m, in \u001b[0;36mpch_to_csv\u001b[1;34m(pch_filename, csv_filename)\u001b[0m\n\u001b[0;32m     16\u001b[0m \u001b[38;5;66;03m# Read the .pch file\u001b[39;00m\n\u001b[0;32m     17\u001b[0m op2 \u001b[38;5;241m=\u001b[39m OP2()\n\u001b[1;32m---> 18\u001b[0m op2\u001b[38;5;241m.\u001b[39mread_pch(pch_filename)\n\u001b[0;32m     20\u001b[0m \u001b[38;5;66;03m# Get all tables from the pch file\u001b[39;00m\n\u001b[0;32m     21\u001b[0m tables \u001b[38;5;241m=\u001b[39m []\n",
      "\u001b[1;31mAttributeError\u001b[0m: 'OP2' object has no attribute 'read_pch'"
     ]
    }
   ],
   "source": [
    "pch_to_csv(r\"E:\\Punch File\\temp_file_vyom 1.pch\", r'E:\\Punch File\\output.csv')"
   ]
  },
  {
   "cell_type": "code",
   "execution_count": 6,
   "id": "1f99f69d-7045-45bb-bb34-e87e6283e542",
   "metadata": {},
   "outputs": [],
   "source": [
    "# !pip install pyNastran pandas\n",
    "# !pip --default-timeout=1000 install pyNastran"
   ]
  },
  {
   "cell_type": "code",
   "execution_count": 11,
   "id": "1b356d80-001e-4757-9613-2881b4662003",
   "metadata": {},
   "outputs": [
    {
     "name": "stdout",
     "output_type": "stream",
     "text": [
      "Requirement already satisfied: pyNastran in c:\\programdata\\anaconda3\\lib\\site-packages (1.4.1)\n",
      "Requirement already satisfied: pandas in c:\\programdata\\anaconda3\\lib\\site-packages (2.2.2)\n",
      "Requirement already satisfied: numpy<2 in c:\\programdata\\anaconda3\\lib\\site-packages (from pyNastran) (1.26.4)\n",
      "Requirement already satisfied: scipy<2 in c:\\programdata\\anaconda3\\lib\\site-packages (from pyNastran) (1.13.1)\n",
      "Requirement already satisfied: matplotlib in c:\\programdata\\anaconda3\\lib\\site-packages (from pyNastran) (3.9.2)\n",
      "Requirement already satisfied: cpylog>=1.4.0 in c:\\programdata\\anaconda3\\lib\\site-packages (from pyNastran) (1.5.0)\n",
      "Requirement already satisfied: docopt-ng>=0.9.0 in c:\\programdata\\anaconda3\\lib\\site-packages (from pyNastran) (0.9.0)\n",
      "Requirement already satisfied: colorama in c:\\programdata\\anaconda3\\lib\\site-packages (from pyNastran) (0.4.6)\n",
      "Requirement already satisfied: python-dateutil>=2.8.2 in c:\\programdata\\anaconda3\\lib\\site-packages (from pandas) (2.9.0.post0)\n",
      "Requirement already satisfied: pytz>=2020.1 in c:\\programdata\\anaconda3\\lib\\site-packages (from pandas) (2024.1)\n",
      "Requirement already satisfied: tzdata>=2022.7 in c:\\programdata\\anaconda3\\lib\\site-packages (from pandas) (2023.3)\n",
      "Requirement already satisfied: six>=1.5 in c:\\programdata\\anaconda3\\lib\\site-packages (from python-dateutil>=2.8.2->pandas) (1.16.0)\n",
      "Requirement already satisfied: contourpy>=1.0.1 in c:\\programdata\\anaconda3\\lib\\site-packages (from matplotlib->pyNastran) (1.2.0)\n",
      "Requirement already satisfied: cycler>=0.10 in c:\\programdata\\anaconda3\\lib\\site-packages (from matplotlib->pyNastran) (0.11.0)\n",
      "Requirement already satisfied: fonttools>=4.22.0 in c:\\programdata\\anaconda3\\lib\\site-packages (from matplotlib->pyNastran) (4.51.0)\n",
      "Requirement already satisfied: kiwisolver>=1.3.1 in c:\\programdata\\anaconda3\\lib\\site-packages (from matplotlib->pyNastran) (1.4.4)\n",
      "Requirement already satisfied: packaging>=20.0 in c:\\programdata\\anaconda3\\lib\\site-packages (from matplotlib->pyNastran) (24.1)\n",
      "Requirement already satisfied: pillow>=8 in c:\\programdata\\anaconda3\\lib\\site-packages (from matplotlib->pyNastran) (10.4.0)\n",
      "Requirement already satisfied: pyparsing>=2.3.1 in c:\\programdata\\anaconda3\\lib\\site-packages (from matplotlib->pyNastran) (3.1.2)\n"
     ]
    }
   ],
   "source": [
    "# !pip install pyNastran pandas\n",
    "!pip install --user pyNastran pandas"
   ]
  }
 ],
 "metadata": {
  "kernelspec": {
   "display_name": "Python 3 (ipykernel)",
   "language": "python",
   "name": "python3"
  },
  "language_info": {
   "codemirror_mode": {
    "name": "ipython",
    "version": 3
   },
   "file_extension": ".py",
   "mimetype": "text/x-python",
   "name": "python",
   "nbconvert_exporter": "python",
   "pygments_lexer": "ipython3",
   "version": "3.12.7"
  }
 },
 "nbformat": 4,
 "nbformat_minor": 5
}
